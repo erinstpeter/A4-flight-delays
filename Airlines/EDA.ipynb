{
 "cells": [
  {
   "cell_type": "code",
   "execution_count": 1,
   "metadata": {},
   "outputs": [
    {
     "data": {
      "text/plain": [
       "'C:\\\\Users\\\\Zain Ul Abideen\\\\Dropbox\\\\Code4Pol'"
      ]
     },
     "execution_count": 1,
     "metadata": {},
     "output_type": "execute_result"
    }
   ],
   "source": [
    "#get working directory\n",
    "import warnings\n",
    "warnings.filterwarnings('ignore')\n",
    "import pandas as pd\n",
    "import os\n",
    "os.getcwd()"
   ]
  },
  {
   "cell_type": "code",
   "execution_count": 2,
   "metadata": {
    "collapsed": true
   },
   "outputs": [],
   "source": [
    "airport_lookupDF = pd.read_csv('https://s3.amazonaws.com/jsw.dsprojects/AirlinePredictions/Airport_Lookup.csv', \n",
    "                                header = 0) # Airport codes"
   ]
  },
  {
   "cell_type": "code",
   "execution_count": 3,
   "metadata": {
    "collapsed": true
   },
   "outputs": [],
   "source": [
    "trainDF = pd.read_csv('FinalFlightsNumeric.csv', header = 0)"
   ]
  },
  {
   "cell_type": "code",
   "execution_count": 4,
   "metadata": {},
   "outputs": [
    {
     "name": "stdout",
     "output_type": "stream",
     "text": [
      "(3752717, 31)\n"
     ]
    },
    {
     "data": {
      "text/html": [
       "<div>\n",
       "<style>\n",
       "    .dataframe thead tr:only-child th {\n",
       "        text-align: right;\n",
       "    }\n",
       "\n",
       "    .dataframe thead th {\n",
       "        text-align: left;\n",
       "    }\n",
       "\n",
       "    .dataframe tbody tr th {\n",
       "        vertical-align: top;\n",
       "    }\n",
       "</style>\n",
       "<table border=\"1\" class=\"dataframe\">\n",
       "  <thead>\n",
       "    <tr style=\"text-align: right;\">\n",
       "      <th></th>\n",
       "      <th>Unnamed: 0</th>\n",
       "      <th>DATE</th>\n",
       "      <th>YEAR</th>\n",
       "      <th>MONTH</th>\n",
       "      <th>DAY_OF_MONTH</th>\n",
       "      <th>DAY_OF_WEEK</th>\n",
       "      <th>UNIQUE_CARRIER</th>\n",
       "      <th>TAIL_NUM</th>\n",
       "      <th>ORIGIN_AIRPORT_ID</th>\n",
       "      <th>DEST_AIRPORT_ID</th>\n",
       "      <th>...</th>\n",
       "      <th>NAS_DELAY</th>\n",
       "      <th>SECURITY_DELAY</th>\n",
       "      <th>LATE_AIRCRAFT_DELAY</th>\n",
       "      <th>HDAYS</th>\n",
       "      <th>ARR_HOUR</th>\n",
       "      <th>DEP_HOUR</th>\n",
       "      <th>CARRIER_NAME</th>\n",
       "      <th>ORIGIN_AIRPORT</th>\n",
       "      <th>DESTINATION_AIRPORT</th>\n",
       "      <th>CARRIER_CODE</th>\n",
       "    </tr>\n",
       "  </thead>\n",
       "  <tbody>\n",
       "    <tr>\n",
       "      <th>0</th>\n",
       "      <td>1</td>\n",
       "      <td>2017-01-01</td>\n",
       "      <td>2017</td>\n",
       "      <td>1</td>\n",
       "      <td>1</td>\n",
       "      <td>7</td>\n",
       "      <td>AA</td>\n",
       "      <td>N3CGAA</td>\n",
       "      <td>11292</td>\n",
       "      <td>14107</td>\n",
       "      <td>...</td>\n",
       "      <td>NaN</td>\n",
       "      <td>NaN</td>\n",
       "      <td>NaN</td>\n",
       "      <td>1</td>\n",
       "      <td>13</td>\n",
       "      <td>11</td>\n",
       "      <td>American Airlines Inc.</td>\n",
       "      <td>Denver, CO: Denver International</td>\n",
       "      <td>Phoenix, AZ: Phoenix Sky Harbor International</td>\n",
       "      <td>1</td>\n",
       "    </tr>\n",
       "    <tr>\n",
       "      <th>1</th>\n",
       "      <td>2</td>\n",
       "      <td>2017-01-01</td>\n",
       "      <td>2017</td>\n",
       "      <td>1</td>\n",
       "      <td>1</td>\n",
       "      <td>7</td>\n",
       "      <td>AA</td>\n",
       "      <td>N3CGAA</td>\n",
       "      <td>14107</td>\n",
       "      <td>14057</td>\n",
       "      <td>...</td>\n",
       "      <td>NaN</td>\n",
       "      <td>NaN</td>\n",
       "      <td>NaN</td>\n",
       "      <td>1</td>\n",
       "      <td>17</td>\n",
       "      <td>15</td>\n",
       "      <td>American Airlines Inc.</td>\n",
       "      <td>Phoenix, AZ: Phoenix Sky Harbor International</td>\n",
       "      <td>Portland, OR: Portland International</td>\n",
       "      <td>1</td>\n",
       "    </tr>\n",
       "    <tr>\n",
       "      <th>2</th>\n",
       "      <td>3</td>\n",
       "      <td>2017-01-01</td>\n",
       "      <td>2017</td>\n",
       "      <td>1</td>\n",
       "      <td>1</td>\n",
       "      <td>7</td>\n",
       "      <td>AA</td>\n",
       "      <td>N3EVAA</td>\n",
       "      <td>11278</td>\n",
       "      <td>13303</td>\n",
       "      <td>...</td>\n",
       "      <td>NaN</td>\n",
       "      <td>NaN</td>\n",
       "      <td>NaN</td>\n",
       "      <td>1</td>\n",
       "      <td>9</td>\n",
       "      <td>6</td>\n",
       "      <td>American Airlines Inc.</td>\n",
       "      <td>Washington, DC: Ronald Reagan Washington National</td>\n",
       "      <td>Miami, FL: Miami International</td>\n",
       "      <td>1</td>\n",
       "    </tr>\n",
       "    <tr>\n",
       "      <th>3</th>\n",
       "      <td>4</td>\n",
       "      <td>2017-01-01</td>\n",
       "      <td>2017</td>\n",
       "      <td>1</td>\n",
       "      <td>1</td>\n",
       "      <td>7</td>\n",
       "      <td>AA</td>\n",
       "      <td>N3NAAA</td>\n",
       "      <td>13303</td>\n",
       "      <td>12953</td>\n",
       "      <td>...</td>\n",
       "      <td>NaN</td>\n",
       "      <td>NaN</td>\n",
       "      <td>NaN</td>\n",
       "      <td>1</td>\n",
       "      <td>17</td>\n",
       "      <td>14</td>\n",
       "      <td>American Airlines Inc.</td>\n",
       "      <td>Miami, FL: Miami International</td>\n",
       "      <td>New York, NY: LaGuardia</td>\n",
       "      <td>1</td>\n",
       "    </tr>\n",
       "    <tr>\n",
       "      <th>4</th>\n",
       "      <td>5</td>\n",
       "      <td>2017-01-01</td>\n",
       "      <td>2017</td>\n",
       "      <td>1</td>\n",
       "      <td>1</td>\n",
       "      <td>7</td>\n",
       "      <td>AA</td>\n",
       "      <td>N3FCAA</td>\n",
       "      <td>14107</td>\n",
       "      <td>11292</td>\n",
       "      <td>...</td>\n",
       "      <td>12.0</td>\n",
       "      <td>0.0</td>\n",
       "      <td>16.0</td>\n",
       "      <td>1</td>\n",
       "      <td>0</td>\n",
       "      <td>22</td>\n",
       "      <td>American Airlines Inc.</td>\n",
       "      <td>Phoenix, AZ: Phoenix Sky Harbor International</td>\n",
       "      <td>Denver, CO: Denver International</td>\n",
       "      <td>1</td>\n",
       "    </tr>\n",
       "  </tbody>\n",
       "</table>\n",
       "<p>5 rows × 31 columns</p>\n",
       "</div>"
      ],
      "text/plain": [
       "   Unnamed: 0        DATE  YEAR  MONTH  DAY_OF_MONTH  DAY_OF_WEEK  \\\n",
       "0           1  2017-01-01  2017      1             1            7   \n",
       "1           2  2017-01-01  2017      1             1            7   \n",
       "2           3  2017-01-01  2017      1             1            7   \n",
       "3           4  2017-01-01  2017      1             1            7   \n",
       "4           5  2017-01-01  2017      1             1            7   \n",
       "\n",
       "  UNIQUE_CARRIER TAIL_NUM  ORIGIN_AIRPORT_ID  DEST_AIRPORT_ID      ...       \\\n",
       "0             AA   N3CGAA              11292            14107      ...        \n",
       "1             AA   N3CGAA              14107            14057      ...        \n",
       "2             AA   N3EVAA              11278            13303      ...        \n",
       "3             AA   N3NAAA              13303            12953      ...        \n",
       "4             AA   N3FCAA              14107            11292      ...        \n",
       "\n",
       "   NAS_DELAY  SECURITY_DELAY  LATE_AIRCRAFT_DELAY  HDAYS  ARR_HOUR DEP_HOUR  \\\n",
       "0        NaN             NaN                  NaN      1        13       11   \n",
       "1        NaN             NaN                  NaN      1        17       15   \n",
       "2        NaN             NaN                  NaN      1         9        6   \n",
       "3        NaN             NaN                  NaN      1        17       14   \n",
       "4       12.0             0.0                 16.0      1         0       22   \n",
       "\n",
       "             CARRIER_NAME                                     ORIGIN_AIRPORT  \\\n",
       "0  American Airlines Inc.                   Denver, CO: Denver International   \n",
       "1  American Airlines Inc.      Phoenix, AZ: Phoenix Sky Harbor International   \n",
       "2  American Airlines Inc.  Washington, DC: Ronald Reagan Washington National   \n",
       "3  American Airlines Inc.                     Miami, FL: Miami International   \n",
       "4  American Airlines Inc.      Phoenix, AZ: Phoenix Sky Harbor International   \n",
       "\n",
       "                             DESTINATION_AIRPORT  CARRIER_CODE  \n",
       "0  Phoenix, AZ: Phoenix Sky Harbor International             1  \n",
       "1           Portland, OR: Portland International             1  \n",
       "2                 Miami, FL: Miami International             1  \n",
       "3                        New York, NY: LaGuardia             1  \n",
       "4               Denver, CO: Denver International             1  \n",
       "\n",
       "[5 rows x 31 columns]"
      ]
     },
     "execution_count": 4,
     "metadata": {},
     "output_type": "execute_result"
    }
   ],
   "source": [
    "print (trainDF.shape)\n",
    "trainDF.head()"
   ]
  },
  {
   "cell_type": "code",
   "execution_count": 5,
   "metadata": {},
   "outputs": [
    {
     "data": {
      "text/plain": [
       "Unnamed: 0               int64\n",
       "DATE                    object\n",
       "YEAR                     int64\n",
       "MONTH                    int64\n",
       "DAY_OF_MONTH             int64\n",
       "DAY_OF_WEEK              int64\n",
       "UNIQUE_CARRIER          object\n",
       "TAIL_NUM                object\n",
       "ORIGIN_AIRPORT_ID        int64\n",
       "DEST_AIRPORT_ID          int64\n",
       "CRS_DEP_TIME             int64\n",
       "DEP_DELAY              float64\n",
       "CRS_ARR_TIME             int64\n",
       "ARR_DELAY              float64\n",
       "CANCELLED                int64\n",
       "CANCELLATION_CODE       object\n",
       "DIVERTED                 int64\n",
       "CRS_ELAPSED_TIME       float64\n",
       "DISTANCE                 int64\n",
       "CARRIER_DELAY          float64\n",
       "WEATHER_DELAY          float64\n",
       "NAS_DELAY              float64\n",
       "SECURITY_DELAY         float64\n",
       "LATE_AIRCRAFT_DELAY    float64\n",
       "HDAYS                    int64\n",
       "ARR_HOUR                 int64\n",
       "DEP_HOUR                 int64\n",
       "CARRIER_NAME            object\n",
       "ORIGIN_AIRPORT          object\n",
       "DESTINATION_AIRPORT     object\n",
       "CARRIER_CODE             int64\n",
       "dtype: object"
      ]
     },
     "execution_count": 5,
     "metadata": {},
     "output_type": "execute_result"
    }
   ],
   "source": [
    "trainDF.dtypes"
   ]
  },
  {
   "cell_type": "code",
   "execution_count": 6,
   "metadata": {
    "collapsed": true
   },
   "outputs": [],
   "source": [
    "#trainDF.loc[trainDF['ARR_DELAY'].isnull()][['CARRIER_DELAY', 'WEATHER_DELAY', 'NAS_DELAY', 'SECURITY_DELAY']]"
   ]
  },
  {
   "cell_type": "code",
   "execution_count": 7,
   "metadata": {},
   "outputs": [
    {
     "data": {
      "text/plain": [
       "(3690440, 31)"
      ]
     },
     "execution_count": 7,
     "metadata": {},
     "output_type": "execute_result"
    }
   ],
   "source": [
    "trainDF = trainDF[trainDF['ARR_DELAY'].notnull()]\n",
    "trainDF.shape"
   ]
  },
  {
   "cell_type": "code",
   "execution_count": 8,
   "metadata": {
    "collapsed": true
   },
   "outputs": [],
   "source": [
    "#drop the unnamed column\n",
    "trainDF.drop(trainDF.columns[0], axis = 1, inplace = True)"
   ]
  },
  {
   "cell_type": "code",
   "execution_count": 9,
   "metadata": {
    "collapsed": true
   },
   "outputs": [],
   "source": [
    "#create a lookup table\n",
    "carrierDF = trainDF[['UNIQUE_CARRIER', 'CARRIER_CODE']].drop_duplicates() # Only get unique examples"
   ]
  },
  {
   "cell_type": "code",
   "execution_count": 10,
   "metadata": {},
   "outputs": [
    {
     "data": {
      "text/html": [
       "<div>\n",
       "<style>\n",
       "    .dataframe thead tr:only-child th {\n",
       "        text-align: right;\n",
       "    }\n",
       "\n",
       "    .dataframe thead th {\n",
       "        text-align: left;\n",
       "    }\n",
       "\n",
       "    .dataframe tbody tr th {\n",
       "        vertical-align: top;\n",
       "    }\n",
       "</style>\n",
       "<table border=\"1\" class=\"dataframe\">\n",
       "  <thead>\n",
       "    <tr style=\"text-align: right;\">\n",
       "      <th></th>\n",
       "      <th>UNIQUE_CARRIER</th>\n",
       "      <th>CARRIER_CODE</th>\n",
       "    </tr>\n",
       "  </thead>\n",
       "  <tbody>\n",
       "    <tr>\n",
       "      <th>0</th>\n",
       "      <td>AA</td>\n",
       "      <td>1</td>\n",
       "    </tr>\n",
       "    <tr>\n",
       "      <th>460</th>\n",
       "      <td>AS</td>\n",
       "      <td>2</td>\n",
       "    </tr>\n",
       "    <tr>\n",
       "      <th>687</th>\n",
       "      <td>B6</td>\n",
       "      <td>3</td>\n",
       "    </tr>\n",
       "    <tr>\n",
       "      <th>794</th>\n",
       "      <td>EV</td>\n",
       "      <td>5</td>\n",
       "    </tr>\n",
       "    <tr>\n",
       "      <th>1277</th>\n",
       "      <td>DL</td>\n",
       "      <td>4</td>\n",
       "    </tr>\n",
       "    <tr>\n",
       "      <th>2668</th>\n",
       "      <td>F9</td>\n",
       "      <td>6</td>\n",
       "    </tr>\n",
       "    <tr>\n",
       "      <th>2872</th>\n",
       "      <td>NK</td>\n",
       "      <td>8</td>\n",
       "    </tr>\n",
       "    <tr>\n",
       "      <th>3056</th>\n",
       "      <td>OO</td>\n",
       "      <td>9</td>\n",
       "    </tr>\n",
       "    <tr>\n",
       "      <th>3321</th>\n",
       "      <td>WN</td>\n",
       "      <td>12</td>\n",
       "    </tr>\n",
       "    <tr>\n",
       "      <th>5665</th>\n",
       "      <td>HA</td>\n",
       "      <td>7</td>\n",
       "    </tr>\n",
       "    <tr>\n",
       "      <th>5983</th>\n",
       "      <td>UA</td>\n",
       "      <td>10</td>\n",
       "    </tr>\n",
       "    <tr>\n",
       "      <th>7223</th>\n",
       "      <td>VX</td>\n",
       "      <td>11</td>\n",
       "    </tr>\n",
       "  </tbody>\n",
       "</table>\n",
       "</div>"
      ],
      "text/plain": [
       "     UNIQUE_CARRIER  CARRIER_CODE\n",
       "0                AA             1\n",
       "460              AS             2\n",
       "687              B6             3\n",
       "794              EV             5\n",
       "1277             DL             4\n",
       "2668             F9             6\n",
       "2872             NK             8\n",
       "3056             OO             9\n",
       "3321             WN            12\n",
       "5665             HA             7\n",
       "5983             UA            10\n",
       "7223             VX            11"
      ]
     },
     "execution_count": 10,
     "metadata": {},
     "output_type": "execute_result"
    }
   ],
   "source": [
    "carrierDF"
   ]
  },
  {
   "cell_type": "code",
   "execution_count": 11,
   "metadata": {
    "collapsed": true
   },
   "outputs": [],
   "source": [
    "trainDF.drop('UNIQUE_CARRIER', axis = 1, inplace = True)"
   ]
  },
  {
   "cell_type": "code",
   "execution_count": 12,
   "metadata": {
    "collapsed": true
   },
   "outputs": [],
   "source": [
    "#creaeting a holiday table\n",
    "hdaysDF = trainDF[['MONTH', 'DAY_OF_MONTH', 'HDAYS']].drop_duplicates()"
   ]
  },
  {
   "cell_type": "code",
   "execution_count": 13,
   "metadata": {
    "collapsed": true
   },
   "outputs": [],
   "source": [
    "#separating variables\n",
    "\n",
    "scalingDF = trainDF[['DISTANCE', 'HDAYS']].astype('float') # Numerical features\n",
    "categDF = trainDF[['MONTH', 'DAY_OF_MONTH', 'ORIGIN_AIRPORT_ID', \n",
    "                    'DEST_AIRPORT_ID', 'ARR_HOUR', 'DEP_HOUR', \n",
    "                    'CARRIER_CODE', 'DAY_OF_WEEK']] # Categorical features"
   ]
  },
  {
   "cell_type": "code",
   "execution_count": 14,
   "metadata": {
    "collapsed": true
   },
   "outputs": [],
   "source": [
    "from sklearn.preprocessing import OneHotEncoder\n",
    "    \n",
    "encoder = OneHotEncoder() # Create encoder object\n",
    "categDF_encoded = encoder.fit_transform(categDF) # Can't convert this to dense array: too large!"
   ]
  },
  {
   "cell_type": "code",
   "execution_count": 15,
   "metadata": {},
   "outputs": [
    {
     "data": {
      "text/plain": [
       "scipy.sparse.csr.csr_matrix"
      ]
     },
     "execution_count": 15,
     "metadata": {},
     "output_type": "execute_result"
    }
   ],
   "source": [
    "type(categDF_encoded)"
   ]
  },
  {
   "cell_type": "code",
   "execution_count": 16,
   "metadata": {
    "collapsed": true
   },
   "outputs": [],
   "source": [
    "from scipy import sparse # Need this to create a sparse array\n",
    "scalingDF_sparse = sparse.csr_matrix(scalingDF)"
   ]
  },
  {
   "cell_type": "code",
   "execution_count": 17,
   "metadata": {
    "collapsed": true
   },
   "outputs": [],
   "source": [
    "x_final = sparse.hstack((scalingDF_sparse, categDF_encoded))"
   ]
  },
  {
   "cell_type": "code",
   "execution_count": 18,
   "metadata": {
    "collapsed": true
   },
   "outputs": [],
   "source": [
    "y_final = trainDF['ARR_DELAY'].values"
   ]
  },
  {
   "cell_type": "code",
   "execution_count": 19,
   "metadata": {},
   "outputs": [
    {
     "name": "stderr",
     "output_type": "stream",
     "text": [
      "C:\\Users\\Zain Ul Abideen\\Anaconda3\\lib\\site-packages\\sklearn\\cross_validation.py:44: DeprecationWarning: This module was deprecated in version 0.18 in favor of the model_selection module into which all the refactored classes and functions are moved. Also note that the interface of the new CV iterators are different from that of this module. This module will be removed in 0.20.\n",
      "  \"This module will be removed in 0.20.\", DeprecationWarning)\n"
     ]
    }
   ],
   "source": [
    "#splitting the data\n",
    "from sklearn.cross_validation import train_test_split\n",
    "x_train, x_test, y_train, y_test = train_test_split(x_final,y_final,test_size = 0.2,random_state = 0) # Do 80/20 split"
   ]
  },
  {
   "cell_type": "code",
   "execution_count": 20,
   "metadata": {
    "collapsed": true
   },
   "outputs": [],
   "source": [
    "# getting the numerical variabels to scale them\n",
    "x_train_numerical = x_train[:, 0:2].toarray() # We only want the first two features which are the numerical ones.\n",
    "x_test_numerical = x_test[:, 0:2].toarray()"
   ]
  },
  {
   "cell_type": "code",
   "execution_count": 21,
   "metadata": {
    "collapsed": true
   },
   "outputs": [],
   "source": [
    "#standardizing the data \n",
    "from sklearn.preprocessing import StandardScaler\n",
    "    \n",
    "scaler = StandardScaler() # create scaler object\n",
    "scaler.fit(x_train_numerical) # fit with the training data ONLY\n",
    "x_train_numerical = sparse.csr_matrix(scaler.transform(x_train_numerical)) # Transform the data and convert to sparse\n",
    "x_test_numerical = sparse.csr_matrix(scaler.transform(x_test_numerical))"
   ]
  },
  {
   "cell_type": "code",
   "execution_count": 22,
   "metadata": {
    "collapsed": true
   },
   "outputs": [],
   "source": [
    "#replacing the numerical variables\n",
    "x_train[:, 0:2] = x_train_numerical\n",
    "x_test[:, 0:2] = x_test_numerical"
   ]
  },
  {
   "cell_type": "code",
   "execution_count": 23,
   "metadata": {
    "scrolled": true
   },
   "outputs": [
    {
     "name": "stderr",
     "output_type": "stream",
     "text": [
      "C:\\Users\\Zain Ul Abideen\\Anaconda3\\lib\\site-packages\\sklearn\\grid_search.py:43: DeprecationWarning: This module was deprecated in version 0.18 in favor of the model_selection module into which all the refactored classes and functions are moved. This module will be removed in 0.20.\n",
      "  DeprecationWarning)\n",
      "C:\\Users\\Zain Ul Abideen\\Anaconda3\\lib\\site-packages\\sklearn\\metrics\\scorer.py:90: DeprecationWarning: Scoring method mean_absolute_error was renamed to neg_mean_absolute_error in version 0.18 and will be removed in 0.20.\n",
      "  sample_weight=sample_weight)\n",
      "C:\\Users\\Zain Ul Abideen\\Anaconda3\\lib\\site-packages\\sklearn\\metrics\\scorer.py:90: DeprecationWarning: Scoring method mean_absolute_error was renamed to neg_mean_absolute_error in version 0.18 and will be removed in 0.20.\n",
      "  sample_weight=sample_weight)\n",
      "C:\\Users\\Zain Ul Abideen\\Anaconda3\\lib\\site-packages\\sklearn\\metrics\\scorer.py:90: DeprecationWarning: Scoring method mean_absolute_error was renamed to neg_mean_absolute_error in version 0.18 and will be removed in 0.20.\n",
      "  sample_weight=sample_weight)\n",
      "C:\\Users\\Zain Ul Abideen\\Anaconda3\\lib\\site-packages\\sklearn\\metrics\\scorer.py:90: DeprecationWarning: Scoring method mean_absolute_error was renamed to neg_mean_absolute_error in version 0.18 and will be removed in 0.20.\n",
      "  sample_weight=sample_weight)\n",
      "C:\\Users\\Zain Ul Abideen\\Anaconda3\\lib\\site-packages\\sklearn\\metrics\\scorer.py:90: DeprecationWarning: Scoring method mean_absolute_error was renamed to neg_mean_absolute_error in version 0.18 and will be removed in 0.20.\n",
      "  sample_weight=sample_weight)\n",
      "C:\\Users\\Zain Ul Abideen\\Anaconda3\\lib\\site-packages\\sklearn\\metrics\\scorer.py:90: DeprecationWarning: Scoring method mean_absolute_error was renamed to neg_mean_absolute_error in version 0.18 and will be removed in 0.20.\n",
      "  sample_weight=sample_weight)\n",
      "C:\\Users\\Zain Ul Abideen\\Anaconda3\\lib\\site-packages\\sklearn\\metrics\\scorer.py:90: DeprecationWarning: Scoring method mean_absolute_error was renamed to neg_mean_absolute_error in version 0.18 and will be removed in 0.20.\n",
      "  sample_weight=sample_weight)\n",
      "C:\\Users\\Zain Ul Abideen\\Anaconda3\\lib\\site-packages\\sklearn\\metrics\\scorer.py:90: DeprecationWarning: Scoring method mean_absolute_error was renamed to neg_mean_absolute_error in version 0.18 and will be removed in 0.20.\n",
      "  sample_weight=sample_weight)\n",
      "C:\\Users\\Zain Ul Abideen\\Anaconda3\\lib\\site-packages\\sklearn\\metrics\\scorer.py:90: DeprecationWarning: Scoring method mean_absolute_error was renamed to neg_mean_absolute_error in version 0.18 and will be removed in 0.20.\n",
      "  sample_weight=sample_weight)\n",
      "C:\\Users\\Zain Ul Abideen\\Anaconda3\\lib\\site-packages\\sklearn\\metrics\\scorer.py:90: DeprecationWarning: Scoring method mean_absolute_error was renamed to neg_mean_absolute_error in version 0.18 and will be removed in 0.20.\n",
      "  sample_weight=sample_weight)\n",
      "C:\\Users\\Zain Ul Abideen\\Anaconda3\\lib\\site-packages\\sklearn\\metrics\\scorer.py:90: DeprecationWarning: Scoring method mean_absolute_error was renamed to neg_mean_absolute_error in version 0.18 and will be removed in 0.20.\n",
      "  sample_weight=sample_weight)\n",
      "C:\\Users\\Zain Ul Abideen\\Anaconda3\\lib\\site-packages\\sklearn\\metrics\\scorer.py:90: DeprecationWarning: Scoring method mean_absolute_error was renamed to neg_mean_absolute_error in version 0.18 and will be removed in 0.20.\n",
      "  sample_weight=sample_weight)\n",
      "C:\\Users\\Zain Ul Abideen\\Anaconda3\\lib\\site-packages\\sklearn\\metrics\\scorer.py:90: DeprecationWarning: Scoring method mean_absolute_error was renamed to neg_mean_absolute_error in version 0.18 and will be removed in 0.20.\n",
      "  sample_weight=sample_weight)\n",
      "C:\\Users\\Zain Ul Abideen\\Anaconda3\\lib\\site-packages\\sklearn\\metrics\\scorer.py:90: DeprecationWarning: Scoring method mean_absolute_error was renamed to neg_mean_absolute_error in version 0.18 and will be removed in 0.20.\n",
      "  sample_weight=sample_weight)\n",
      "C:\\Users\\Zain Ul Abideen\\Anaconda3\\lib\\site-packages\\sklearn\\metrics\\scorer.py:90: DeprecationWarning: Scoring method mean_absolute_error was renamed to neg_mean_absolute_error in version 0.18 and will be removed in 0.20.\n",
      "  sample_weight=sample_weight)\n",
      "C:\\Users\\Zain Ul Abideen\\Anaconda3\\lib\\site-packages\\sklearn\\metrics\\scorer.py:90: DeprecationWarning: Scoring method mean_absolute_error was renamed to neg_mean_absolute_error in version 0.18 and will be removed in 0.20.\n",
      "  sample_weight=sample_weight)\n",
      "C:\\Users\\Zain Ul Abideen\\Anaconda3\\lib\\site-packages\\sklearn\\metrics\\scorer.py:90: DeprecationWarning: Scoring method mean_absolute_error was renamed to neg_mean_absolute_error in version 0.18 and will be removed in 0.20.\n",
      "  sample_weight=sample_weight)\n",
      "C:\\Users\\Zain Ul Abideen\\Anaconda3\\lib\\site-packages\\sklearn\\metrics\\scorer.py:90: DeprecationWarning: Scoring method mean_absolute_error was renamed to neg_mean_absolute_error in version 0.18 and will be removed in 0.20.\n",
      "  sample_weight=sample_weight)\n",
      "C:\\Users\\Zain Ul Abideen\\Anaconda3\\lib\\site-packages\\sklearn\\metrics\\scorer.py:90: DeprecationWarning: Scoring method mean_absolute_error was renamed to neg_mean_absolute_error in version 0.18 and will be removed in 0.20.\n",
      "  sample_weight=sample_weight)\n",
      "C:\\Users\\Zain Ul Abideen\\Anaconda3\\lib\\site-packages\\sklearn\\metrics\\scorer.py:90: DeprecationWarning: Scoring method mean_absolute_error was renamed to neg_mean_absolute_error in version 0.18 and will be removed in 0.20.\n",
      "  sample_weight=sample_weight)\n",
      "C:\\Users\\Zain Ul Abideen\\Anaconda3\\lib\\site-packages\\sklearn\\metrics\\scorer.py:90: DeprecationWarning: Scoring method mean_absolute_error was renamed to neg_mean_absolute_error in version 0.18 and will be removed in 0.20.\n",
      "  sample_weight=sample_weight)\n",
      "C:\\Users\\Zain Ul Abideen\\Anaconda3\\lib\\site-packages\\sklearn\\metrics\\scorer.py:90: DeprecationWarning: Scoring method mean_absolute_error was renamed to neg_mean_absolute_error in version 0.18 and will be removed in 0.20.\n",
      "  sample_weight=sample_weight)\n",
      "C:\\Users\\Zain Ul Abideen\\Anaconda3\\lib\\site-packages\\sklearn\\metrics\\scorer.py:90: DeprecationWarning: Scoring method mean_absolute_error was renamed to neg_mean_absolute_error in version 0.18 and will be removed in 0.20.\n",
      "  sample_weight=sample_weight)\n",
      "C:\\Users\\Zain Ul Abideen\\Anaconda3\\lib\\site-packages\\sklearn\\metrics\\scorer.py:90: DeprecationWarning: Scoring method mean_absolute_error was renamed to neg_mean_absolute_error in version 0.18 and will be removed in 0.20.\n",
      "  sample_weight=sample_weight)\n",
      "C:\\Users\\Zain Ul Abideen\\Anaconda3\\lib\\site-packages\\sklearn\\metrics\\scorer.py:90: DeprecationWarning: Scoring method mean_absolute_error was renamed to neg_mean_absolute_error in version 0.18 and will be removed in 0.20.\n",
      "  sample_weight=sample_weight)\n",
      "C:\\Users\\Zain Ul Abideen\\Anaconda3\\lib\\site-packages\\sklearn\\metrics\\scorer.py:90: DeprecationWarning: Scoring method mean_absolute_error was renamed to neg_mean_absolute_error in version 0.18 and will be removed in 0.20.\n",
      "  sample_weight=sample_weight)\n",
      "C:\\Users\\Zain Ul Abideen\\Anaconda3\\lib\\site-packages\\sklearn\\metrics\\scorer.py:90: DeprecationWarning: Scoring method mean_absolute_error was renamed to neg_mean_absolute_error in version 0.18 and will be removed in 0.20.\n",
      "  sample_weight=sample_weight)\n",
      "C:\\Users\\Zain Ul Abideen\\Anaconda3\\lib\\site-packages\\sklearn\\metrics\\scorer.py:90: DeprecationWarning: Scoring method mean_absolute_error was renamed to neg_mean_absolute_error in version 0.18 and will be removed in 0.20.\n",
      "  sample_weight=sample_weight)\n",
      "C:\\Users\\Zain Ul Abideen\\Anaconda3\\lib\\site-packages\\sklearn\\metrics\\scorer.py:90: DeprecationWarning: Scoring method mean_absolute_error was renamed to neg_mean_absolute_error in version 0.18 and will be removed in 0.20.\n",
      "  sample_weight=sample_weight)\n",
      "C:\\Users\\Zain Ul Abideen\\Anaconda3\\lib\\site-packages\\sklearn\\metrics\\scorer.py:90: DeprecationWarning: Scoring method mean_absolute_error was renamed to neg_mean_absolute_error in version 0.18 and will be removed in 0.20.\n",
      "  sample_weight=sample_weight)\n"
     ]
    },
    {
     "data": {
      "text/plain": [
       "GridSearchCV(cv=5, error_score='raise',\n",
       "       estimator=SGDRegressor(alpha=0.0001, average=False, epsilon=0.1, eta0=0.01,\n",
       "       fit_intercept=True, l1_ratio=0.15, learning_rate='invscaling',\n",
       "       loss='squared_loss', n_iter=5, penalty='l2', power_t=0.25,\n",
       "       random_state=0, shuffle=True, verbose=0, warm_start=False),\n",
       "       fit_params={}, iid=True, n_jobs=1,\n",
       "       param_grid={'alpha': array([  1.00000e-01,   1.00000e-02,   1.00000e-03,   1.00000e-04,\n",
       "         1.00000e-05,   1.00000e-06])},\n",
       "       pre_dispatch='2*n_jobs', refit=True, scoring='mean_absolute_error',\n",
       "       verbose=0)"
      ]
     },
     "execution_count": 23,
     "metadata": {},
     "output_type": "execute_result"
    }
   ],
   "source": [
    "\n",
    "from sklearn.linear_model import SGDRegressor\n",
    "from sklearn.grid_search import GridSearchCV\n",
    "import numpy as np\n",
    "    \n",
    "SGD_params = {'alpha': 10.0**-np.arange(1,7)} # Suggested range we try\n",
    "SGD_model = GridSearchCV(SGDRegressor(random_state = 0), SGD_params, scoring = 'mean_absolute_error', cv = 5) # Use 5-fold CV \n",
    "SGD_model.fit(x_train, y_train) # Fit the model"
   ]
  },
  {
   "cell_type": "code",
   "execution_count": 24,
   "metadata": {},
   "outputs": [
    {
     "name": "stdout",
     "output_type": "stream",
     "text": [
      "Mean absolute error of SGD regression was:\n",
      "21.4610260668\n"
     ]
    }
   ],
   "source": [
    "from sklearn.metrics import mean_absolute_error\n",
    "    \n",
    "y_true, y_pred = y_test, SGD_model.predict(x_test) # Predict on our test set\n",
    "    \n",
    "print ('Mean absolute error of SGD regression was:')\n",
    "print(mean_absolute_error(y_true, y_pred))"
   ]
  },
  {
   "cell_type": "code",
   "execution_count": 25,
   "metadata": {
    "collapsed": true
   },
   "outputs": [],
   "source": [
    "def max_num_flights(codes):\n",
    "    '''\n",
    "    This is a function for the delay prediction function to use for calculating the number of \n",
    "    flights in the database for a given city.\n",
    "        \n",
    "    Inputs: list of codes retrived in the delay_prediction function\n",
    "    Output: The code with the largest number of flights.\n",
    "    '''\n",
    "    num_store = np.zeros(len(codes)) # Store all possible airport codes\n",
    "    \n",
    "    if len(codes) < 1:\n",
    "        print('Try entering your city/airport again. No matching airports found.') # In case the aiport didn't show up \n",
    "        return                                                                     # in the data\n",
    "    \n",
    "    for i in range(len(codes)):\n",
    "        num_flights = trainDF.MONTH[trainDF.ORIGIN_AIRPORT_ID == codes[i]].count() # Count number of rows in data for each\n",
    "        num_store[i] = num_flights                                                 # airport code\n",
    "           \n",
    "        \n",
    "    # Now find the maximum row\n",
    "        \n",
    "    max_ind = int(np.where(num_store == max(num_store))[0])\n",
    "    # Now we know which code had the most flights. Return it.\n",
    "    return(codes[max_ind])"
   ]
  },
  {
   "cell_type": "code",
   "execution_count": 103,
   "metadata": {
    "collapsed": true
   },
   "outputs": [],
   "source": [
    "def delay_prediction(origin = 'Fort Worth', destination = 'Chicago', carrier = 'American', \n",
    "                    dept_time = 17, arr_time = 19, month = 5, day = 15, weekday = 'Wednesday'):\n",
    "                        \n",
    "    '''\n",
    "    This function allows you to input all of your flight information (no leaks!) and\n",
    "    the function will return how late your flight will arrive based on the output from the \n",
    "    SGD Regressor.\n",
    "        \n",
    "    Inputs: \n",
    "        \n",
    "            Origin (enter this as a city, state combo, or include the airport name (such as Bush\n",
    "                        or Hobby). This will automatically calculate which airport you meant.\n",
    "                 \n",
    "            Destination (same as Origin, entered as a string)\n",
    "                 \n",
    "            Carrier (which Airline, use a string to represent the name (such as 'American' or 'United')\n",
    "                 \n",
    "            Departing Hour scheduled (just the hour of departure, based on a 24 hour cycle. This means\n",
    "                                noon would be 12, and midnight would be 0.)\n",
    "                \n",
    "            Arriving Hour scheduled (same format as departing)\n",
    "                 \n",
    "            Month (the month the flight is scheduled for)\n",
    "                 \n",
    "            Day (the day of the month the flight is scheduled for)\n",
    "                 \n",
    "            Weekday (Enter as a capitalized word, such as 'Monday')\n",
    "                 \n",
    "            Available Carriers:\n",
    "            AirTran\n",
    "            Alaska\n",
    "            American\n",
    "            Delta\n",
    "            Endeavor\n",
    "            Envoy\n",
    "            ExpressJet\n",
    "            Frontier\n",
    "            Hawaiian\n",
    "            JetBlue\n",
    "            Mesa\n",
    "            SkyWest\n",
    "            Southwest\n",
    "            United\n",
    "            US Airways\n",
    "            Virgin\n",
    "            \n",
    "    Outputs: Estimated delay for the arrival (in minutes, can be negative if the flight is expected to arrive early)\n",
    "    '''\n",
    "         \n",
    "    # Create a dict for our Airlines. Based on the carrierDF.\n",
    "         \n",
    "    carrier_dict = {'Endeavor':1, 'American':2, 'Alaska':3, 'JetBlue':4, 'Delta':5,\n",
    "                    'ExpressJet':6, 'Frontier':7, 'AirTran':8, 'Hawaiian':9, 'Envoy':10,\n",
    "                    'SkyWest':11, 'United':12, 'US Airways':13, 'Virgin':14,\n",
    "                    'Southwest':15, 'Mesa':16}\n",
    "                         \n",
    "    # Another for day of the week\n",
    "         \n",
    "    weekday_dict = {'Monday':1, 'Tuesday':2, 'Wednesday':3, 'Thursday':4,\n",
    "                    'Friday':5, 'Saturday':6, 'Sunday':7}\n",
    "                         \n",
    "    # Now find the corresponding airport codes for our origin and destination. \n",
    "         \n",
    "    origin_codes = list(airport_lookupDF[airport_lookupDF.Description.str.contains(origin)].Code)\n",
    "    destination_codes = list(airport_lookupDF[airport_lookupDF.Description.str.contains(destination)].Code)\n",
    "         \n",
    "    # From these codes found in the lookup table, see which one had the largest number of flights.\n",
    "                                                                                                                                                                                                                                                                                                                                         \n",
    "    origin_code = max_num_flights(origin_codes)\n",
    "    destination_code = max_num_flights(destination_codes)\n",
    "         \n",
    "    # Now that we have these codes, we can look up the other parameters necessary.\n",
    "         \n",
    "    # Start with looking up HDAYS.\n",
    "         \n",
    "    hdays = np.array(int(hdaysDF[(hdaysDF.MONTH == month) & (hdaysDF.DAY_OF_MONTH == day)].HDAYS))\n",
    "         \n",
    "    # Now find the distance between the two airports. Add a try/except to catch any problems.\n",
    "       \n",
    "    try:\n",
    "        distance = np.array(float(trainDF[(trainDF.ORIGIN_AIRPORT_ID == origin_code) & \n",
    "                    (trainDF.DEST_AIRPORT_ID == destination_code)].DISTANCE.drop_duplicates()))\n",
    "    except:\n",
    "        print ('Route was not found in the data. Please try a different nearby city or a new route.')\n",
    "        return\n",
    "         \n",
    "    carrier_num = carrier_dict[carrier]\n",
    "    weekday_num = weekday_dict[weekday]\n",
    "         \n",
    "    # Now that we have all of our values, we can start combining them together.\n",
    "         \n",
    "    # First, create our numeric array of distance and hdays.\n",
    "         \n",
    "    numerical_values = np.c_[distance, hdays]\n",
    "         \n",
    "    # Scale the features\n",
    "         \n",
    "    numerical_values_scaled = scaler.transform(numerical_values)\n",
    "        \n",
    "    # Now create our array of categorical values.\n",
    "         \n",
    "    categorical_values = np.zeros(8)\n",
    "    categorical_values[0] = int(month)\n",
    "    categorical_values[1] = int(day)\n",
    "    categorical_values[2] = int(origin_code)\n",
    "    categorical_values[3] = int(destination_code)\n",
    "    categorical_values[4] = int(arr_time)\n",
    "    categorical_values[5] = int(dept_time)\n",
    "    categorical_values[6] = int(carrier_num)\n",
    "    categorical_values[7] = int(weekday_num)\n",
    "         \n",
    "    # Apply the one-hot encoding to these.\n",
    "         \n",
    "    categorical_values_encoded = encoder.transform([categorical_values]).toarray()\n",
    "         \n",
    "    # Combine these into the final test example that goes into the model\n",
    "         \n",
    "    final_test_example = np.c_[numerical_values_scaled, categorical_values_encoded]\n",
    "         \n",
    "    # Now predict this with the model \n",
    "         \n",
    "    pred_delay = SGD_model.predict(final_test_example)\n",
    "    #print ('Your predicted delay is', int(pred_delay[0]), 'minutes.')\n",
    "    delay_time = int(pred_delay[0])\n",
    "    return delay_time # End of function"
   ]
  },
  {
   "cell_type": "code",
   "execution_count": 104,
   "metadata": {},
   "outputs": [
    {
     "data": {
      "text/plain": [
       "9"
      ]
     },
     "execution_count": 104,
     "metadata": {},
     "output_type": "execute_result"
    }
   ],
   "source": [
    "delay_prediction(origin = 'Washington, DC', destination = 'Seattle', \n",
    "                carrier = 'United', dept_time = 17, arr_time = 21,\n",
    "                month = 3, day = 22, weekday = 'Monday')"
   ]
  },
  {
   "cell_type": "code",
   "execution_count": 105,
   "metadata": {},
   "outputs": [],
   "source": [
    "delay = delay_prediction(origin = 'Boston', destination = 'Houston', \n",
    "                carrier = 'AirTran', dept_time = 22, arr_time = 1,\n",
    "                month = 3, day = 19, weekday = 'Thursday')"
   ]
  },
  {
   "cell_type": "markdown",
   "metadata": {},
   "source": [
    "deptime_df = trainDF[['CRS_DEP_TIME']].drop_duplicates()\n",
    "\n",
    "deptime_df"
   ]
  },
  {
   "cell_type": "code",
   "execution_count": 153,
   "metadata": {
    "scrolled": true
   },
   "outputs": [
    {
     "name": "stdout",
     "output_type": "stream",
     "text": [
      "AirTran\n",
      "Houston\n",
      "8\n",
      "Alaska\n",
      "Houston\n",
      "12\n",
      "American\n",
      "Houston\n",
      "6\n",
      "Delta\n",
      "Houston\n",
      "11\n",
      "Endeavor\n",
      "Houston\n",
      "7\n",
      "Envoy\n",
      "Houston\n",
      "4\n",
      "ExpressJet\n",
      "Houston\n",
      "8\n",
      "Frontier\n",
      "Houston\n",
      "8\n",
      "Hawaiian\n",
      "Houston\n",
      "10\n",
      "JetBlue\n",
      "Houston\n",
      "2\n",
      "SkyWest\n",
      "Houston\n",
      "10\n",
      "United\n",
      "Houston\n",
      "8\n",
      "AirTran\n",
      "Chicago\n",
      "13\n",
      "Alaska\n",
      "Chicago\n",
      "16\n",
      "American\n",
      "Chicago\n",
      "10\n",
      "Delta\n",
      "Chicago\n",
      "15\n",
      "Endeavor\n",
      "Chicago\n",
      "11\n",
      "Envoy\n",
      "Chicago\n",
      "8\n",
      "ExpressJet\n",
      "Chicago\n",
      "13\n",
      "Frontier\n",
      "Chicago\n",
      "12\n",
      "Hawaiian\n",
      "Chicago\n",
      "14\n",
      "JetBlue\n",
      "Chicago\n",
      "7\n",
      "SkyWest\n",
      "Chicago\n",
      "14\n",
      "United\n",
      "Chicago\n",
      "13\n",
      "AirTran\n",
      "Washington, DC\n",
      "11\n",
      "Alaska\n",
      "Washington, DC\n",
      "15\n",
      "American\n",
      "Washington, DC\n",
      "9\n",
      "Delta\n",
      "Washington, DC\n",
      "14\n",
      "Endeavor\n",
      "Washington, DC\n",
      "10\n",
      "Envoy\n",
      "Washington, DC\n",
      "7\n",
      "ExpressJet\n",
      "Washington, DC\n",
      "11\n",
      "Frontier\n",
      "Washington, DC\n",
      "11\n",
      "Hawaiian\n",
      "Washington, DC\n",
      "13\n",
      "JetBlue\n",
      "Washington, DC\n",
      "6\n",
      "SkyWest\n",
      "Washington, DC\n",
      "13\n",
      "United\n",
      "Washington, DC\n",
      "12\n",
      "AirTran\n",
      "Miami\n",
      "11\n",
      "Alaska\n",
      "Miami\n",
      "15\n",
      "American\n",
      "Miami\n",
      "9\n",
      "Delta\n",
      "Miami\n",
      "14\n",
      "Endeavor\n",
      "Miami\n",
      "10\n",
      "Envoy\n",
      "Miami\n",
      "7\n",
      "ExpressJet\n",
      "Miami\n",
      "11\n",
      "Frontier\n",
      "Miami\n",
      "11\n",
      "Hawaiian\n",
      "Miami\n",
      "13\n",
      "JetBlue\n",
      "Miami\n",
      "5\n",
      "SkyWest\n",
      "Miami\n",
      "13\n",
      "United\n",
      "Miami\n",
      "12\n",
      "AirTran\n",
      "San Francisco\n",
      "17\n",
      "Alaska\n",
      "San Francisco\n",
      "20\n",
      "American\n",
      "San Francisco\n",
      "14\n",
      "Delta\n",
      "San Francisco\n",
      "19\n",
      "Endeavor\n",
      "San Francisco\n",
      "15\n",
      "Envoy\n",
      "San Francisco\n",
      "12\n",
      "ExpressJet\n",
      "San Francisco\n",
      "17\n",
      "Frontier\n",
      "San Francisco\n",
      "16\n",
      "Hawaiian\n",
      "San Francisco\n",
      "18\n",
      "JetBlue\n",
      "San Francisco\n",
      "11\n",
      "SkyWest\n",
      "San Francisco\n",
      "18\n",
      "United\n",
      "San Francisco\n",
      "17\n",
      "AirTran\n",
      "New York\n",
      "18\n",
      "Alaska\n",
      "New York\n",
      "22\n",
      "American\n",
      "New York\n",
      "16\n",
      "Delta\n",
      "New York\n",
      "21\n",
      "Endeavor\n",
      "New York\n",
      "17\n",
      "Envoy\n",
      "New York\n",
      "14\n",
      "ExpressJet\n",
      "New York\n",
      "18\n",
      "Frontier\n",
      "New York\n",
      "18\n",
      "Hawaiian\n",
      "New York\n",
      "20\n",
      "JetBlue\n",
      "New York\n",
      "12\n",
      "SkyWest\n",
      "New York\n",
      "20\n",
      "United\n",
      "New York\n",
      "18\n"
     ]
    }
   ],
   "source": [
    "dep_time = list(range(24))\n",
    "arr_time = list(range(24))\n",
    "\n",
    "delay_time = []\n",
    "\n",
    "dest = ['Houston', 'Chicago', 'Washington, DC', 'Miami', 'San Francisco', 'New York']\n",
    "carr = ['AirTran', 'Alaska', 'American', 'Delta', 'Endeavor', 'Envoy', 'ExpressJet', 'Frontier', 'Hawaiian', 'JetBlue',\n",
    "        'SkyWest', 'United']\n",
    "\n",
    "delayss = []\n",
    "for d in dest:\n",
    "    for c in carr:\n",
    "        delay = delay_prediction(origin = 'Boston', destination = d, \n",
    "                carrier = c, dept_time = 17, arr_time = 21,\n",
    "                month = 3, day = 19, weekday = 'Thursday')\n",
    "        print (c)\n",
    "        print (d)\n",
    "        print (delay)\n",
    "        delayss.append ({'dest': d, 'delay': delay, 'carrier': c })"
   ]
  },
  {
   "cell_type": "code",
   "execution_count": 154,
   "metadata": {
    "scrolled": true
   },
   "outputs": [
    {
     "data": {
      "text/plain": [
       "[{'carrier': 'AirTran', 'delay': 8, 'dest': 'Houston'},\n",
       " {'carrier': 'Alaska', 'delay': 12, 'dest': 'Houston'},\n",
       " {'carrier': 'American', 'delay': 6, 'dest': 'Houston'},\n",
       " {'carrier': 'Delta', 'delay': 11, 'dest': 'Houston'},\n",
       " {'carrier': 'Endeavor', 'delay': 7, 'dest': 'Houston'},\n",
       " {'carrier': 'Envoy', 'delay': 4, 'dest': 'Houston'},\n",
       " {'carrier': 'ExpressJet', 'delay': 8, 'dest': 'Houston'},\n",
       " {'carrier': 'Frontier', 'delay': 8, 'dest': 'Houston'},\n",
       " {'carrier': 'Hawaiian', 'delay': 10, 'dest': 'Houston'},\n",
       " {'carrier': 'JetBlue', 'delay': 2, 'dest': 'Houston'},\n",
       " {'carrier': 'SkyWest', 'delay': 10, 'dest': 'Houston'},\n",
       " {'carrier': 'United', 'delay': 8, 'dest': 'Houston'},\n",
       " {'carrier': 'AirTran', 'delay': 13, 'dest': 'Chicago'},\n",
       " {'carrier': 'Alaska', 'delay': 16, 'dest': 'Chicago'},\n",
       " {'carrier': 'American', 'delay': 10, 'dest': 'Chicago'},\n",
       " {'carrier': 'Delta', 'delay': 15, 'dest': 'Chicago'},\n",
       " {'carrier': 'Endeavor', 'delay': 11, 'dest': 'Chicago'},\n",
       " {'carrier': 'Envoy', 'delay': 8, 'dest': 'Chicago'},\n",
       " {'carrier': 'ExpressJet', 'delay': 13, 'dest': 'Chicago'},\n",
       " {'carrier': 'Frontier', 'delay': 12, 'dest': 'Chicago'},\n",
       " {'carrier': 'Hawaiian', 'delay': 14, 'dest': 'Chicago'},\n",
       " {'carrier': 'JetBlue', 'delay': 7, 'dest': 'Chicago'},\n",
       " {'carrier': 'SkyWest', 'delay': 14, 'dest': 'Chicago'},\n",
       " {'carrier': 'United', 'delay': 13, 'dest': 'Chicago'},\n",
       " {'carrier': 'AirTran', 'delay': 11, 'dest': 'Washington, DC'},\n",
       " {'carrier': 'Alaska', 'delay': 15, 'dest': 'Washington, DC'},\n",
       " {'carrier': 'American', 'delay': 9, 'dest': 'Washington, DC'},\n",
       " {'carrier': 'Delta', 'delay': 14, 'dest': 'Washington, DC'},\n",
       " {'carrier': 'Endeavor', 'delay': 10, 'dest': 'Washington, DC'},\n",
       " {'carrier': 'Envoy', 'delay': 7, 'dest': 'Washington, DC'},\n",
       " {'carrier': 'ExpressJet', 'delay': 11, 'dest': 'Washington, DC'},\n",
       " {'carrier': 'Frontier', 'delay': 11, 'dest': 'Washington, DC'},\n",
       " {'carrier': 'Hawaiian', 'delay': 13, 'dest': 'Washington, DC'},\n",
       " {'carrier': 'JetBlue', 'delay': 6, 'dest': 'Washington, DC'},\n",
       " {'carrier': 'SkyWest', 'delay': 13, 'dest': 'Washington, DC'},\n",
       " {'carrier': 'United', 'delay': 12, 'dest': 'Washington, DC'},\n",
       " {'carrier': 'AirTran', 'delay': 11, 'dest': 'Miami'},\n",
       " {'carrier': 'Alaska', 'delay': 15, 'dest': 'Miami'},\n",
       " {'carrier': 'American', 'delay': 9, 'dest': 'Miami'},\n",
       " {'carrier': 'Delta', 'delay': 14, 'dest': 'Miami'},\n",
       " {'carrier': 'Endeavor', 'delay': 10, 'dest': 'Miami'},\n",
       " {'carrier': 'Envoy', 'delay': 7, 'dest': 'Miami'},\n",
       " {'carrier': 'ExpressJet', 'delay': 11, 'dest': 'Miami'},\n",
       " {'carrier': 'Frontier', 'delay': 11, 'dest': 'Miami'},\n",
       " {'carrier': 'Hawaiian', 'delay': 13, 'dest': 'Miami'},\n",
       " {'carrier': 'JetBlue', 'delay': 5, 'dest': 'Miami'},\n",
       " {'carrier': 'SkyWest', 'delay': 13, 'dest': 'Miami'},\n",
       " {'carrier': 'United', 'delay': 12, 'dest': 'Miami'},\n",
       " {'carrier': 'AirTran', 'delay': 17, 'dest': 'San Francisco'},\n",
       " {'carrier': 'Alaska', 'delay': 20, 'dest': 'San Francisco'},\n",
       " {'carrier': 'American', 'delay': 14, 'dest': 'San Francisco'},\n",
       " {'carrier': 'Delta', 'delay': 19, 'dest': 'San Francisco'},\n",
       " {'carrier': 'Endeavor', 'delay': 15, 'dest': 'San Francisco'},\n",
       " {'carrier': 'Envoy', 'delay': 12, 'dest': 'San Francisco'},\n",
       " {'carrier': 'ExpressJet', 'delay': 17, 'dest': 'San Francisco'},\n",
       " {'carrier': 'Frontier', 'delay': 16, 'dest': 'San Francisco'},\n",
       " {'carrier': 'Hawaiian', 'delay': 18, 'dest': 'San Francisco'},\n",
       " {'carrier': 'JetBlue', 'delay': 11, 'dest': 'San Francisco'},\n",
       " {'carrier': 'SkyWest', 'delay': 18, 'dest': 'San Francisco'},\n",
       " {'carrier': 'United', 'delay': 17, 'dest': 'San Francisco'},\n",
       " {'carrier': 'AirTran', 'delay': 18, 'dest': 'New York'},\n",
       " {'carrier': 'Alaska', 'delay': 22, 'dest': 'New York'},\n",
       " {'carrier': 'American', 'delay': 16, 'dest': 'New York'},\n",
       " {'carrier': 'Delta', 'delay': 21, 'dest': 'New York'},\n",
       " {'carrier': 'Endeavor', 'delay': 17, 'dest': 'New York'},\n",
       " {'carrier': 'Envoy', 'delay': 14, 'dest': 'New York'},\n",
       " {'carrier': 'ExpressJet', 'delay': 18, 'dest': 'New York'},\n",
       " {'carrier': 'Frontier', 'delay': 18, 'dest': 'New York'},\n",
       " {'carrier': 'Hawaiian', 'delay': 20, 'dest': 'New York'},\n",
       " {'carrier': 'JetBlue', 'delay': 12, 'dest': 'New York'},\n",
       " {'carrier': 'SkyWest', 'delay': 20, 'dest': 'New York'},\n",
       " {'carrier': 'United', 'delay': 18, 'dest': 'New York'}]"
      ]
     },
     "execution_count": 154,
     "metadata": {},
     "output_type": "execute_result"
    }
   ],
   "source": [
    "delayss"
   ]
  },
  {
   "cell_type": "code",
   "execution_count": 155,
   "metadata": {
    "collapsed": true
   },
   "outputs": [],
   "source": [
    "df_delays =pd.DataFrame(delayss)"
   ]
  },
  {
   "cell_type": "code",
   "execution_count": 157,
   "metadata": {},
   "outputs": [],
   "source": [
    "df_delays.to_csv('delays.csv', sep=',')"
   ]
  },
  {
   "cell_type": "code",
   "execution_count": null,
   "metadata": {
    "collapsed": true
   },
   "outputs": [],
   "source": []
  }
 ],
 "metadata": {
  "kernelspec": {
   "display_name": "Python 3",
   "language": "python",
   "name": "python3"
  },
  "language_info": {
   "codemirror_mode": {
    "name": "ipython",
    "version": 3
   },
   "file_extension": ".py",
   "mimetype": "text/x-python",
   "name": "python",
   "nbconvert_exporter": "python",
   "pygments_lexer": "ipython3",
   "version": "3.6.1"
  }
 },
 "nbformat": 4,
 "nbformat_minor": 2
}
